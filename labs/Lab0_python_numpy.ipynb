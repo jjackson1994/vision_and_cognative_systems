{
  "nbformat": 4,
  "nbformat_minor": 0,
  "metadata": {
    "kernelspec": {
      "display_name": "Python 3",
      "language": "python",
      "name": "python3"
    },
    "language_info": {
      "codemirror_mode": {
        "name": "ipython",
        "version": 3
      },
      "file_extension": ".py",
      "mimetype": "text/x-python",
      "name": "python",
      "nbconvert_exporter": "python",
      "pygments_lexer": "ipython3",
      "version": "3.7.6"
    },
    "colab": {
      "name": "ml_python_numpy.ipynb",
      "provenance": [],
      "collapsed_sections": [
        "-jR9H9SJlN9Z",
        "jhd6Af-alN9l",
        "q-IHhMp3lN9y",
        "SMIqExTwlN97",
        "1WaymXBXlN-H",
        "s_Db_JfwlN-N"
      ]
    }
  },
  "cells": [
    {
      "cell_type": "markdown",
      "metadata": {
        "id": "5g6xE1MzlN8g",
        "colab_type": "text"
      },
      "source": [
        "# Python 3 & NumPy Tutorial"
      ]
    },
    {
      "cell_type": "markdown",
      "metadata": {
        "id": "drkgxtYllN8i",
        "colab_type": "text"
      },
      "source": [
        "Python 3 and NumPy will be used extensively throughout this course, so it's important to be familiar with them.  \n",
        "\n",
        "A good amount of the material in this notebook comes from Justin Johnson's Python & NumPy Tutorial:\n",
        "http://cs231n.github.io/python-numpy-tutorial/. At this moment, not everything from that tutorial is in this notebook and not everything from this notebook is in the tutorial."
      ]
    },
    {
      "cell_type": "markdown",
      "metadata": {
        "id": "TywaJ098lN8k",
        "colab_type": "text"
      },
      "source": [
        "## Python 3"
      ]
    },
    {
      "cell_type": "markdown",
      "metadata": {
        "id": "-rBNODCdlN8m",
        "colab_type": "text"
      },
      "source": [
        "If you're unfamiliar with Python 3, here are some of the most common changes from Python 2 to look out for."
      ]
    },
    {
      "cell_type": "markdown",
      "metadata": {
        "id": "qhLMkpihlN8o",
        "colab_type": "text"
      },
      "source": [
        "### Print is a function"
      ]
    },
    {
      "cell_type": "code",
      "metadata": {
        "id": "FXldn0g2lN8p",
        "colab_type": "code",
        "colab": {}
      },
      "source": [
        "print(\"Hello!\")"
      ],
      "execution_count": 0,
      "outputs": []
    },
    {
      "cell_type": "markdown",
      "metadata": {
        "id": "8xL3sYbhlN8u",
        "colab_type": "text"
      },
      "source": [
        "Without parentheses, printing will not work."
      ]
    },
    {
      "cell_type": "code",
      "metadata": {
        "id": "ad2Vwqr7lN8w",
        "colab_type": "code",
        "colab": {}
      },
      "source": [
        "print \"Hello!\""
      ],
      "execution_count": 0,
      "outputs": []
    },
    {
      "cell_type": "markdown",
      "metadata": {
        "id": "pRm5Lih9lN8z",
        "colab_type": "text"
      },
      "source": [
        "### Floating point division by default"
      ]
    },
    {
      "cell_type": "code",
      "metadata": {
        "id": "ejR_WOtWlN80",
        "colab_type": "code",
        "colab": {}
      },
      "source": [
        "5 / 2"
      ],
      "execution_count": 0,
      "outputs": []
    },
    {
      "cell_type": "markdown",
      "metadata": {
        "id": "fAl7BTQulN84",
        "colab_type": "text"
      },
      "source": [
        "To do integer division, we use two backslashes:"
      ]
    },
    {
      "cell_type": "code",
      "metadata": {
        "id": "OGKugF9GlN86",
        "colab_type": "code",
        "colab": {}
      },
      "source": [
        "5 // 2"
      ],
      "execution_count": 0,
      "outputs": []
    },
    {
      "cell_type": "markdown",
      "metadata": {
        "id": "736wGGP5lN8-",
        "colab_type": "text"
      },
      "source": [
        "### No xrange"
      ]
    },
    {
      "cell_type": "markdown",
      "metadata": {
        "id": "txBkLg7olN9A",
        "colab_type": "text"
      },
      "source": [
        "The xrange from Python 2 is now merged into \"range\" for Python 3 and there is no xrange in Python 3. In Python 3, range(3) does not create a list of 3 elements as it would in Python 2, rather just creates a more memory efficient iterator.\n",
        "\n",
        "Hence,  \n",
        "xrange in Python 3: Does not exist  \n",
        "range in Python 3: Has very similar behavior to Python 2's xrange"
      ]
    },
    {
      "cell_type": "code",
      "metadata": {
        "id": "6e39mpfklN9B",
        "colab_type": "code",
        "colab": {}
      },
      "source": [
        "for i in range(3):\n",
        "    print(i)"
      ],
      "execution_count": 0,
      "outputs": []
    },
    {
      "cell_type": "code",
      "metadata": {
        "id": "IzEy_l1vlN9E",
        "colab_type": "code",
        "colab": {}
      },
      "source": [
        "range(3) == list(range(3))"
      ],
      "execution_count": 0,
      "outputs": []
    },
    {
      "cell_type": "code",
      "metadata": {
        "id": "F5GqPFpXlN9G",
        "colab_type": "code",
        "colab": {}
      },
      "source": [
        "# If need be, can use the following to get a similar behavior to Python 2's range:\n",
        "print(list(range(3)))"
      ],
      "execution_count": 0,
      "outputs": []
    },
    {
      "cell_type": "markdown",
      "metadata": {
        "id": "HdaDMmSplN9J",
        "colab_type": "text"
      },
      "source": [
        "# NumPy"
      ]
    },
    {
      "cell_type": "markdown",
      "metadata": {
        "id": "Q7vssGY9lN9J",
        "colab_type": "text"
      },
      "source": [
        "\"NumPy is the fundamental package for scientific computing in Python. It is a Python library that provides a multidimensional array object, various derived objects (such as masked arrays and matrices), and an assortment of routines for fast operations on arrays, including mathematical, logical, shape manipulation, sorting, selecting, I/O, discrete Fourier transforms, basic linear algebra, basic statistical operations, random simulation and much more\"  \n",
        "-https://docs.scipy.org/doc/numpy-1.10.1/user/whatisnumpy.html."
      ]
    },
    {
      "cell_type": "code",
      "metadata": {
        "id": "9Z5WYz-5lN9K",
        "colab_type": "code",
        "colab": {}
      },
      "source": [
        "import numpy as np"
      ],
      "execution_count": 0,
      "outputs": []
    },
    {
      "cell_type": "markdown",
      "metadata": {
        "id": "G1yGH3RclN9N",
        "colab_type": "text"
      },
      "source": [
        "Let's run through an example showing how powerful NumPy is. Suppose we have two lists a and b, consisting of the first 100,000 non-negative numbers, and we want to create a new list c whose *i*th element is a[i] + 2 * b[i].  \n",
        "\n",
        "Without NumPy:"
      ]
    },
    {
      "cell_type": "code",
      "metadata": {
        "id": "1z3UkeD4lN9O",
        "colab_type": "code",
        "colab": {}
      },
      "source": [
        "%%time\n",
        "a = list(range(100000))\n",
        "b = list(range(100000))"
      ],
      "execution_count": 0,
      "outputs": []
    },
    {
      "cell_type": "code",
      "metadata": {
        "id": "rDmAtSlPlN9Q",
        "colab_type": "code",
        "colab": {}
      },
      "source": [
        "%%time\n",
        "for _ in range(10):\n",
        "    c = []\n",
        "    for i in range(len(a)):\n",
        "        c.append(a[i] + 2 * b[i])"
      ],
      "execution_count": 0,
      "outputs": []
    },
    {
      "cell_type": "markdown",
      "metadata": {
        "id": "WF6Niw3elN9S",
        "colab_type": "text"
      },
      "source": [
        "With NumPy:"
      ]
    },
    {
      "cell_type": "code",
      "metadata": {
        "id": "ofb_6KPclN9T",
        "colab_type": "code",
        "colab": {}
      },
      "source": [
        "%%time\n",
        "a = np.arange(100000)\n",
        "b = np.arange(100000)"
      ],
      "execution_count": 0,
      "outputs": []
    },
    {
      "cell_type": "code",
      "metadata": {
        "id": "JHZHlfjrlN9V",
        "colab_type": "code",
        "colab": {}
      },
      "source": [
        "%%time\n",
        "for _ in range(10):\n",
        "    c = a + 2 * b"
      ],
      "execution_count": 0,
      "outputs": []
    },
    {
      "cell_type": "markdown",
      "metadata": {
        "id": "IsqfSobHlN9X",
        "colab_type": "text"
      },
      "source": [
        "The result is 10 to 15 times (sometimes more) faster, and we could do it in fewer lines of code (and the code itself is more intuitive)!"
      ]
    },
    {
      "cell_type": "markdown",
      "metadata": {
        "id": "6nxygb8rlN9Y",
        "colab_type": "text"
      },
      "source": [
        "Regular Python is much slower due to type checking and other overhead of needing to interpret code and support Python's abstractions.\n",
        "\n",
        "For example, if we are doing some addition in a loop, constantly type checking in a loop will lead to many more instructions than just performing a regular addition operation. NumPy, using optimized pre-compiled C code, is able to avoid a lot of the overhead introduced.\n",
        "\n",
        "The process we used above is **vectorization**. Vectorization refers to applying operations to arrays instead of just individual elements (i.e. no loops)."
      ]
    },
    {
      "cell_type": "markdown",
      "metadata": {
        "id": "yOCtTGY9lN9Y",
        "colab_type": "text"
      },
      "source": [
        "Why vectorize?\n",
        "1. Much faster\n",
        "2. Easier to read and fewer lines of code\n",
        "3. More closely assembles mathematical notation\n",
        "\n",
        "Vectorization is one of the main reasons why NumPy is so powerful."
      ]
    },
    {
      "cell_type": "markdown",
      "metadata": {
        "id": "-jR9H9SJlN9Z",
        "colab_type": "text"
      },
      "source": [
        "## ndarray"
      ]
    },
    {
      "cell_type": "markdown",
      "metadata": {
        "id": "RuI07GzFlN9a",
        "colab_type": "text"
      },
      "source": [
        "ndarrays, n-dimensional arrays of homogenous data type, are the fundamental datatype used in NumPy. As these arrays are of the same type and are fixed size at creation, they offer less flexibility than Python lists, but can be substantially more efficient runtime and memory-wise. (Python lists are arrays of pointers to objects, adding a layer of indirection.)\n",
        "\n",
        "The number of dimensions is the rank of the array; the shape of an array is a tuple of integers giving the size of the array along each dimension."
      ]
    },
    {
      "cell_type": "code",
      "metadata": {
        "id": "WW4gCE01lN9a",
        "colab_type": "code",
        "colab": {}
      },
      "source": [
        "# Can initialize ndarrays with Python lists, for example:\n",
        "a = np.array([1, 2, 3])   # Create a rank 1 array\n",
        "print('type:', type(a))   # Prints \"<class 'numpy.ndarray'>\"\n",
        "print('shape:', a.shape)  # Prints \"(3,)\"\n",
        "print('a:', a)            # Prints \"1 2 3\"\n",
        "\n",
        "a_cpy= a.copy()\n",
        "a[0] = 5                  # Change an element of the array\n",
        "print('a modeified:', a)  # Prints \"[5, 2, 3]\"\n",
        "print('a copy:', a_cpy)\n",
        "\n",
        "b = np.array([[1, 2, 3],\n",
        "              [4, 5, 6]])         # Create a rank 2 array\n",
        "print('shape:', b.shape)          # Prints \"(2, 3)\"\n",
        "print(b[0, 0], b[0, 1], b[1, 0])  # Prints \"1 2 4\""
      ],
      "execution_count": 0,
      "outputs": []
    },
    {
      "cell_type": "markdown",
      "metadata": {
        "id": "I25hNDy4lN9c",
        "colab_type": "text"
      },
      "source": [
        "There are many other initializations that NumPy provides:"
      ]
    },
    {
      "cell_type": "code",
      "metadata": {
        "id": "E1OdpF31lN9d",
        "colab_type": "code",
        "colab": {}
      },
      "source": [
        "a = np.zeros((2, 2))   # Create an array of all zeros\n",
        "print(a)               # Prints \"[[ 0.  0.]\n",
        "                       #          [ 0.  0.]]\"\n",
        "\n",
        "b = np.full((2, 2), 7)  # Create a constant array\n",
        "print(b)                # Prints \"[[ 7.  7.]\n",
        "                        #          [ 7.  7.]]\"\n",
        "\n",
        "c = np.eye(2)         # Create a 2 x 2 identity matrix\n",
        "print(c)              # Prints \"[[ 1.  0.]\n",
        "                      #          [ 0.  1.]]\"\n",
        "\n",
        "d = np.random.random((2, 2))  # Create an array filled with random values\n",
        "print(d)                      # Might print \"[[ 0.91940167  0.08143941]\n",
        "                              #               [ 0.68744134  0.87236687]]\""
      ],
      "execution_count": 0,
      "outputs": []
    },
    {
      "cell_type": "markdown",
      "metadata": {
        "id": "0IWAQB52lN9e",
        "colab_type": "text"
      },
      "source": [
        "How do we create a 2 by 2 matrix of ones?"
      ]
    },
    {
      "cell_type": "code",
      "metadata": {
        "id": "Pm2lPTJelN9f",
        "colab_type": "code",
        "colab": {}
      },
      "source": [
        "a = np.ones((2, 2))    # Create an array of all ones\n",
        "print(a)               # Prints \"[[ 1.  1.]\n",
        "                       #          [ 1.  1.]]\""
      ],
      "execution_count": 0,
      "outputs": []
    },
    {
      "cell_type": "code",
      "metadata": {
        "id": "xDu3MvqGIxrx",
        "colab_type": "code",
        "colab": {}
      },
      "source": [
        "nums = np.arange(8)\n",
        "nums.reshape((2, 4))"
      ],
      "execution_count": 0,
      "outputs": []
    },
    {
      "cell_type": "markdown",
      "metadata": {
        "id": "okNAV3AblN9g",
        "colab_type": "text"
      },
      "source": [
        "Useful to keep track of shape; helpful for debugging and knowing dimensions will be very useful when computing gradients, among other reasons."
      ]
    },
    {
      "cell_type": "code",
      "metadata": {
        "id": "3YhO0W69lN9h",
        "colab_type": "code",
        "colab": {}
      },
      "source": [
        "nums = np.arange(8)\n",
        "print(nums)\n",
        "print(nums.shape)\n",
        "\n",
        "nums = nums.reshape((2, 4))\n",
        "print('Reshaped:\\n', nums)\n",
        "print(nums.shape)\n",
        "\n",
        "# The -1 in reshape corresponds to an unknown dimension that numpy will figure out,\n",
        "# based on all other dimensions and the array size.\n",
        "# Can only specify one unknown dimension.\n",
        "# For example, sometimes we might have an unknown number of data points, and\n",
        "# so we can use -1 instead without worrying about the true number.\n",
        "nums = nums.reshape((4, -1))\n",
        "print('Reshaped with -1:\\n', nums, '\\nshape:\\n', nums.shape)\n",
        "\n",
        "# You can also flatten the array by using -1 reshape\n",
        "print('Flatten:\\n', nums.reshape(-1), '\\nshape:\\n', nums.reshape(-1).shape)"
      ],
      "execution_count": 0,
      "outputs": []
    },
    {
      "cell_type": "markdown",
      "metadata": {
        "id": "p2SdSNHIlN9j",
        "colab_type": "text"
      },
      "source": [
        "NumPy supports an object-oriented paradigm, such that ndarray has a number of methods and attributes, with functions similar to ones in the outermost NumPy namespace. For example, we can do both:"
      ]
    },
    {
      "cell_type": "code",
      "metadata": {
        "id": "-QUDCuuSlN9j",
        "colab_type": "code",
        "colab": {}
      },
      "source": [
        "nums = np.arange(8)\n",
        "print(nums.min())     # Prints 0\n",
        "print(np.min(nums))   # Prints 0\n",
        "print(np.reshape(nums, (4, 2)))"
      ],
      "execution_count": 0,
      "outputs": []
    },
    {
      "cell_type": "markdown",
      "metadata": {
        "id": "jhd6Af-alN9l",
        "colab_type": "text"
      },
      "source": [
        "## Array Operations/Math"
      ]
    },
    {
      "cell_type": "markdown",
      "metadata": {
        "id": "TSM02e1LlN9l",
        "colab_type": "text"
      },
      "source": [
        "NumPy supports many elementwise operations:"
      ]
    },
    {
      "cell_type": "code",
      "metadata": {
        "id": "u6EXtwITlN9m",
        "colab_type": "code",
        "colab": {}
      },
      "source": [
        "x = np.array([[1, 2],\n",
        "              [3, 4]], dtype=np.float64)\n",
        "y = np.array([[5, 6],\n",
        "              [7, 8]], dtype=np.float64)\n",
        "\n",
        "# Elementwise sum; both produce the array\n",
        "# [[ 6.0  8.0]\n",
        "#  [10.0 12.0]]\n",
        "print(np.array_equal(x + y, np.add(x, y)))\n",
        "\n",
        "# Elementwise difference; both produce the array\n",
        "# [[-4.0 -4.0]\n",
        "#  [-4.0 -4.0]]\n",
        "print(np.array_equal(x - y, np.subtract(x, y)))\n",
        "\n",
        "# Elementwise product; both produce the array\n",
        "# [[ 5.0 12.0]\n",
        "#  [21.0 32.0]]\n",
        "print(np.array_equal(x * y, np.multiply(x, y)))\n",
        "\n",
        "# Elementwise square root; produces the array\n",
        "# [[ 1.          1.41421356]\n",
        "#  [ 1.73205081  2.        ]]\n",
        "print(np.sqrt(x))"
      ],
      "execution_count": 0,
      "outputs": []
    },
    {
      "cell_type": "markdown",
      "metadata": {
        "id": "xws5LnnolN9n",
        "colab_type": "text"
      },
      "source": [
        "How do we elementwise divide between two arrays?"
      ]
    },
    {
      "cell_type": "code",
      "metadata": {
        "id": "676nSJVxlN9n",
        "colab_type": "code",
        "colab": {}
      },
      "source": [
        "x = np.array([[1, 2], [3, 4]], dtype=np.float64)\n",
        "y = np.array([[5, 6], [7, 8]], dtype=np.float64)\n",
        "\n",
        "# Elementwise division; both produce the array\n",
        "# [[ 0.2         0.33333333]\n",
        "#  [ 0.42857143  0.5       ]]\n",
        "print(x / y)\n",
        "print(np.divide(x, y))"
      ],
      "execution_count": 0,
      "outputs": []
    },
    {
      "cell_type": "markdown",
      "metadata": {
        "id": "LtrLwCkXlN9p",
        "colab_type": "text"
      },
      "source": [
        "Note * is elementwise multiplication, not matrix multiplication. We instead use the dot function to compute inner products of vectors, to multiply a vector by a matrix, and to multiply matrices. dot is available both as a function in the numpy module and as an instance method of array objects:\n",
        "\n"
      ]
    },
    {
      "cell_type": "code",
      "metadata": {
        "id": "jbqv-iFVlN9q",
        "colab_type": "code",
        "colab": {}
      },
      "source": [
        "x = np.array([[1, 2], [3, 4]])\n",
        "y = np.array([[5, 6], [7, 8]])\n",
        "\n",
        "v = np.array([9, 10])\n",
        "w = np.array([11, 12])\n",
        "\n",
        "# Inner product of vectors; both produce 219\n",
        "print(v.dot(w))\n",
        "print(np.dot(v, w))\n",
        "\n",
        "# Matrix / vector product; both produce the rank 1 array [29 67]\n",
        "print(x.dot(v))\n",
        "print(np.dot(x, v))\n",
        "\n",
        "# Matrix / matrix product; both produce the rank 2 array\n",
        "# [[19 22]\n",
        "#  [43 50]]\n",
        "print(x.dot(y))\n",
        "print(np.dot(x, y))"
      ],
      "execution_count": 0,
      "outputs": []
    },
    {
      "cell_type": "markdown",
      "metadata": {
        "id": "wreGTP3elN9r",
        "colab_type": "text"
      },
      "source": [
        "There are many useful functions built into NumPy, and often we're able to express them across specific axes of the ndarray:"
      ]
    },
    {
      "cell_type": "code",
      "metadata": {
        "id": "5ZeKehmVlN9r",
        "colab_type": "code",
        "colab": {}
      },
      "source": [
        "x = np.array([[1, 2, 3], \n",
        "              [4, 5, 6]])\n",
        "\n",
        "print(np.sum(x))          # Compute sum of all elements; prints \"21\"\n",
        "print(np.sum(x, axis=0))  # Compute sum of each column; prints \"[5 7 9]\"\n",
        "print(np.sum(x, axis=1))  # Compute sum of each row; prints \"[6 15]\"\n",
        "\n",
        "print(np.max(x, axis=1))  # Compute max of each row; prints \"[3 6]\" "
      ],
      "execution_count": 0,
      "outputs": []
    },
    {
      "cell_type": "markdown",
      "metadata": {
        "id": "VWQwq0JxlN9t",
        "colab_type": "text"
      },
      "source": [
        "How can we compute the index of the max value of each row? Useful, to say, find the class that corresponds to the maximum score for an input image."
      ]
    },
    {
      "cell_type": "code",
      "metadata": {
        "id": "Wd7gGWHMlN9t",
        "colab_type": "code",
        "colab": {}
      },
      "source": [
        "x = np.array([[1, 2, 3], \n",
        "              [4, 5, 6]])\n",
        "\n",
        "print(np.argmax(x, axis=1)) # Compute index of max of each row; prints \"[2 2]\""
      ],
      "execution_count": 0,
      "outputs": []
    },
    {
      "cell_type": "markdown",
      "metadata": {
        "id": "K2eCvB2DlN9v",
        "colab_type": "text"
      },
      "source": [
        "We can find indices of elements that satisfy some conditions by using `np.where`"
      ]
    },
    {
      "cell_type": "code",
      "metadata": {
        "id": "WiHyCIWAlN9v",
        "colab_type": "code",
        "colab": {}
      },
      "source": [
        "print(np.where(nums > 5))\n",
        "print(nums[np.where(nums > 5)])"
      ],
      "execution_count": 0,
      "outputs": []
    },
    {
      "cell_type": "markdown",
      "metadata": {
        "id": "PY3_ILr8lN9w",
        "colab_type": "text"
      },
      "source": [
        "Note the axis you apply the operation will have its dimension removed from the shape.\n",
        "This is useful to keep in mind when you're trying to figure out what axis corresponds\n",
        "to what.\n",
        "\n",
        "For example:"
      ]
    },
    {
      "cell_type": "code",
      "metadata": {
        "id": "8POFNmqVlN9x",
        "colab_type": "code",
        "colab": {}
      },
      "source": [
        "x = np.array([[1, 2, 3], \n",
        "              [4, 5, 6]])\n",
        "\n",
        "print('x ndim:', x.ndim)\n",
        "print((x.max(axis=0)).ndim) # Taking the max over axis 0 has shape (3,)\n",
        "                             # corresponding to the 3 columns.\n",
        "\n",
        "# An array with rank 3\n",
        "x = np.array([[[1, 2, 3], \n",
        "               [4, 5, 6]],\n",
        "              [[10, 23, 33], \n",
        "               [43, 52, 16]]\n",
        "             ])\n",
        "\n",
        "print('x ndim:', x.ndim)               # Has shape (2, 2, 3)\n",
        "print((x.max(axis=1)).ndim) # Taking the max over axis 1 has shape (2, 3)\n",
        "print((x.max(axis=(1, 2))).ndim)       # Can take max over multiple axes; prints [6 52]"
      ],
      "execution_count": 0,
      "outputs": []
    },
    {
      "cell_type": "markdown",
      "metadata": {
        "id": "q-IHhMp3lN9y",
        "colab_type": "text"
      },
      "source": [
        "## Indexing"
      ]
    },
    {
      "cell_type": "markdown",
      "metadata": {
        "id": "yDOvxB4wlN9z",
        "colab_type": "text"
      },
      "source": [
        "NumPy also provides powerful indexing schemes."
      ]
    },
    {
      "cell_type": "code",
      "metadata": {
        "id": "lRyB8rRjlN9z",
        "colab_type": "code",
        "colab": {}
      },
      "source": [
        "# Create the following rank 2 array with shape (3, 4)\n",
        "# [[ 1  2  3  4]\n",
        "#  [ 5  6  7  8]\n",
        "#  [ 9 10 11 12]]\n",
        "a = np.array([[1, 2, 3, 4],\n",
        "              [5, 6, 7, 8],\n",
        "              [9, 10, 11, 12]])\n",
        "print('Original:\\n', a)\n",
        "\n",
        "# Can select an element as you would in a 2 dimensional Python list\n",
        "print('Element (0, 0) (a[0][0]):\\n', a[0][0])   # Prints 1\n",
        "# or as follows\n",
        "print('Element (0, 0) (a[0, 0]) :\\n', a[0, 0])  # Prints 1\n",
        "\n",
        "# Use slicing to pull out the subarray consisting of the first 2 rows\n",
        "# and columns 1 and 2; b is the following array of shape (2, 2):\n",
        "# [[2 3]\n",
        "#  [6 7]]\n",
        "print('Sliced (a[:2, 1:3]):\\n', a[:2, 1:3])\n",
        "\n",
        "# Steps are also supported in indexing. The following reverses the first row:\n",
        "print('Reversing the first row (a[0, ::-1]) :\\n', a[0, ::-1]) # Prints [4 3 2 1]\n",
        "\n",
        "# slice by the first dimension, works for n-dimensional array where n >= 1\n",
        "print('slice the first row by the [...] operator: \\n', a[0, ...])"
      ],
      "execution_count": 0,
      "outputs": []
    },
    {
      "cell_type": "markdown",
      "metadata": {
        "id": "2JcuCqillN90",
        "colab_type": "text"
      },
      "source": [
        "Often, it's useful to select or modify one element from each row of a matrix. The following example employs **fancy indexing**, where we index into our array using an array of indices (say an array of integers or booleans):"
      ]
    },
    {
      "cell_type": "code",
      "metadata": {
        "id": "AgUqzkNhlN91",
        "colab_type": "code",
        "colab": {}
      },
      "source": [
        "# Create a new array from which we will select elements\n",
        "a = np.array([[1, 2, 3],\n",
        "              [4, 5, 6],\n",
        "              [7, 8, 9],\n",
        "              [10, 11, 12]])\n",
        "\n",
        "print(a)  # prints \"array([[ 1,  2,  3],\n",
        "          #                [ 4,  5,  6],\n",
        "          #                [ 7,  8,  9],\n",
        "          #                [10, 11, 12]])\"\n",
        "\n",
        "# Create an array of indices\n",
        "b = np.array([0, 2, 0, 1])\n",
        "\n",
        "# Select one element from each row of a using the indices in b\n",
        "print(a[np.arange(4), b])  # Prints \"[ 1  6  7 11]\"\n",
        "\n",
        "# same as\n",
        "for x, y in zip(np.arange(4), b):\n",
        "    print(a[x, y])\n",
        "\n",
        "c = a[0]\n",
        "c[0] = 100\n",
        "print(a)\n",
        "\n",
        "# Mutate one element from each row of a using the indices in b\n",
        "a[np.arange(4), b] += 10\n",
        "\n",
        "print(a)  # prints \"array([[11,  2,  3],\n",
        "          #                [ 4,  5, 16],\n",
        "          #                [17,  8,  9],\n",
        "          #                [10, 21, 12]])\n"
      ],
      "execution_count": 0,
      "outputs": []
    },
    {
      "cell_type": "markdown",
      "metadata": {
        "id": "WZwa5q9jlN92",
        "colab_type": "text"
      },
      "source": [
        "We can also use boolean indexing/masks. Suppose we want to set all elements greater than MAX to MAX:"
      ]
    },
    {
      "cell_type": "code",
      "metadata": {
        "id": "_Uc1w9XylN92",
        "colab_type": "code",
        "colab": {}
      },
      "source": [
        "MAX = 5\n",
        "nums = np.array([1, 4, 10, -1, 15, 0, 5])\n",
        "print(nums > MAX)            # Prints [False, False, True, False, True, False, False]\n",
        "\n",
        "nums[nums > MAX] = 100\n",
        "print(nums)                  # Prints [1, 4, 5, -1, 5, 0, 5]"
      ],
      "execution_count": 0,
      "outputs": []
    },
    {
      "cell_type": "code",
      "metadata": {
        "id": "mFqU2iNFlN94",
        "colab_type": "code",
        "colab": {}
      },
      "source": [
        "nums = np.array([1, 4, 10, -1, 15, 0, 5])\n",
        "nums > 5"
      ],
      "execution_count": 0,
      "outputs": []
    },
    {
      "cell_type": "markdown",
      "metadata": {
        "id": "v4NbHio4lN95",
        "colab_type": "text"
      },
      "source": [
        "Note that the indices in fancy indexing can appear in any order and even multiple times:"
      ]
    },
    {
      "cell_type": "code",
      "metadata": {
        "id": "SCPC6CXllN95",
        "colab_type": "code",
        "colab": {}
      },
      "source": [
        "nums = np.array([1, 4, 10, -1, 15, 0, 5])\n",
        "print(nums[[1, 2, 3, 1, 0]])  # Prints [4 10 -1 4 1]"
      ],
      "execution_count": 0,
      "outputs": []
    },
    {
      "cell_type": "markdown",
      "metadata": {
        "id": "SMIqExTwlN97",
        "colab_type": "text"
      },
      "source": [
        "## Broadcasting"
      ]
    },
    {
      "cell_type": "markdown",
      "metadata": {
        "id": "vr3g1UVTlN97",
        "colab_type": "text"
      },
      "source": [
        "Many of the operations we've looked at above involved arrays of the same rank.  \n",
        "However, many times we might have a smaller array and use that multiple times to update an array of larger dimensions.  \n",
        "For example, consider the below example of shifting the mean of each column from the elements of the corresponding column:"
      ]
    },
    {
      "cell_type": "code",
      "metadata": {
        "id": "ETVpx02NlN98",
        "colab_type": "code",
        "colab": {}
      },
      "source": [
        "x = np.array([[1, 2, 3],\n",
        "              [3, 5, 7]])\n",
        "print(x.shape)  # Prints (2, 3)\n",
        "\n",
        "col_means = x.mean(axis=0)\n",
        "print(col_means)          # Prints [2. 3.5 5.]\n",
        "print(col_means.shape)    # Prints (3,)\n",
        "                          # Has a smaller rank than x!\n",
        "\n",
        "mean_shifted = x - col_means\n",
        "print('\\n', mean_shifted)\n",
        "print(mean_shifted.shape)  # Prints (2, 3)"
      ],
      "execution_count": 0,
      "outputs": []
    },
    {
      "cell_type": "markdown",
      "metadata": {
        "id": "Hf0V1iH1lN99",
        "colab_type": "text"
      },
      "source": [
        "Or even just multiplying a matrix by 2:"
      ]
    },
    {
      "cell_type": "code",
      "metadata": {
        "id": "okpTI56ylN9-",
        "colab_type": "code",
        "colab": {}
      },
      "source": [
        "x = np.array([[1, 2, 3],\n",
        "              [3, 5, 7]])\n",
        "print(x * 2) # Prints [[ 2  4  6]\n",
        "             #         [ 6 10 14]]\n"
      ],
      "execution_count": 0,
      "outputs": []
    },
    {
      "cell_type": "markdown",
      "metadata": {
        "id": "H0e5zjw7lN9_",
        "colab_type": "text"
      },
      "source": [
        "Broadcasting two arrays together follows these rules:\n",
        "\n",
        "1. If the arrays do not have the same rank, prepend the shape of the lower rank array with 1s until both shapes have the same length.\n",
        "2. The two arrays are said to be compatible in a dimension if they have the same size in the dimension, or if one of the arrays has size 1 in that dimension.\n",
        "3. The arrays can be broadcast together if they are compatible in all dimensions.\n",
        "4. After broadcasting, each array behaves as if it had shape equal to the elementwise maximum of shapes of the two input arrays.\n",
        "5. In any dimension where one array had size 1 and the other array had size greater than 1, the first array behaves as if it were copied along that dimension."
      ]
    },
    {
      "cell_type": "markdown",
      "metadata": {
        "id": "kmKDPbHSlN9_",
        "colab_type": "text"
      },
      "source": [
        "For example, when subtracting the columns above, we had arrays of shape (2, 3) and (3,).\n",
        "\n",
        "1. These arrays do not have same rank, so we prepend the shape of the lower rank one to make it (1, 3).\n",
        "2. (2, 3) and (1, 3) are compatible (have the same size in the dimension, or if one of the arrays has size 1 in that dimension).\n",
        "3. Can be broadcast together!\n",
        "4. After broadcasting, each array behaves as if it had shape equal to (2, 3).\n",
        "5. The smaller array will behave as if it were copied along dimension 0."
      ]
    },
    {
      "cell_type": "markdown",
      "metadata": {
        "id": "IPoC_gQOlN-A",
        "colab_type": "text"
      },
      "source": [
        "Let's try to subtract the mean of each row!"
      ]
    },
    {
      "cell_type": "code",
      "metadata": {
        "id": "fncj_6l6lN-A",
        "colab_type": "code",
        "colab": {}
      },
      "source": [
        "x = np.array([[1, 2, 3],\n",
        "              [3, 5, 7]])\n",
        "\n",
        "row_means = x.mean(axis=1)\n",
        "print(row_means)  # Prints [2. 5.]\n",
        "\n",
        "mean_shifted = x - row_means"
      ],
      "execution_count": 0,
      "outputs": []
    },
    {
      "cell_type": "markdown",
      "metadata": {
        "id": "Ko-69iIxlN-C",
        "colab_type": "text"
      },
      "source": [
        "To figure out what's wrong, we print some shapes:"
      ]
    },
    {
      "cell_type": "code",
      "metadata": {
        "id": "w5sQgN1olN-C",
        "colab_type": "code",
        "colab": {}
      },
      "source": [
        "x = np.array([[1, 2, 3],\n",
        "              [3, 5, 7]])\n",
        "print(x.shape)  # Prints (2, 3)\n",
        "\n",
        "row_means = x.mean(axis=1)\n",
        "print(row_means)        # Prints [2. 5.]\n",
        "print(row_means.shape)  # Prints (2,)"
      ],
      "execution_count": 0,
      "outputs": []
    },
    {
      "cell_type": "markdown",
      "metadata": {
        "id": "3_BQa3HYlN-D",
        "colab_type": "text"
      },
      "source": [
        "What happened?"
      ]
    },
    {
      "cell_type": "markdown",
      "metadata": {
        "id": "QRc1SOE5lN-E",
        "colab_type": "text"
      },
      "source": [
        "Answer: If we following broadcasting rule 1, then we'd prepend a 1 to the smaller rank array ot get (1, 2). However, the last dimensions don't match now between (2, 3) and (1, 2), and so we can't broadcast."
      ]
    },
    {
      "cell_type": "markdown",
      "metadata": {
        "id": "npkkLNp-lN-E",
        "colab_type": "text"
      },
      "source": [
        "Take 2, reshaping the row means to get the desired behavior:"
      ]
    },
    {
      "cell_type": "code",
      "metadata": {
        "id": "dtOkv7nIlN-E",
        "colab_type": "code",
        "colab": {}
      },
      "source": [
        "x = np.array([[1, 2, 3],\n",
        "              [3, 5, 7]])\n",
        "print(x.shape)  # Prints (2, 3)\n",
        "\n",
        "row_means = x.mean(axis=1)\n",
        "print('row_means shape:', row_means.shape)\n",
        "print('expanded row_means shape: ', np.expand_dims(row_means, axis=1).shape)\n",
        "\n",
        "mean_shifted = x - np.expand_dims(row_means, axis=1)\n",
        "print(mean_shifted)\n",
        "print(mean_shifted.shape)  # Prints (2, 3)"
      ],
      "execution_count": 0,
      "outputs": []
    },
    {
      "cell_type": "markdown",
      "metadata": {
        "id": "QQZPIW-SlN-G",
        "colab_type": "text"
      },
      "source": [
        "More broadcasting examples!"
      ]
    },
    {
      "cell_type": "code",
      "metadata": {
        "id": "s6hkBUn6lN-G",
        "colab_type": "code",
        "colab": {}
      },
      "source": [
        "# Compute outer product of vectors\n",
        "v = np.array([1, 2, 3])  # v has shape (3,)\n",
        "w = np.array([4, 5])    # w has shape (2,)\n",
        "# To compute an outer product, we first reshape v to be a column\n",
        "# vector of shape (3, 1); we can then broadcast it against w to yield\n",
        "# an output of shape (3, 2), which is the outer product of v and w:\n",
        "# [[ 4  5]\n",
        "#  [ 8 10]\n",
        "#  [12 15]]\n",
        "print(np.reshape(v, (3, 1)) * w)\n",
        "\n",
        "# Add a vector to each row of a matrix\n",
        "x = np.array([[1, 2, 3], [4, 5, 6]])\n",
        "# x has shape (2, 3) and v has shape (3,) so they broadcast to (2, 3),\n",
        "# giving the following matrix:\n",
        "# [[2 4 6]\n",
        "#  [5 7 9]]\n",
        "print(x + v)\n",
        "\n",
        "# Add a vector to each column of a matrix\n",
        "# x has shape (2, 3) and w has shape (2,).\n",
        "# If we transpose x then it has shape (3, 2) and can be broadcast\n",
        "# against w to yield a result of shape (3, 2); transposing this result\n",
        "# yields the final result of shape (2, 3) which is the matrix x with\n",
        "# the vector w added to each column. Gives the following matrix:\n",
        "# [[ 5  6  7]\n",
        "#  [ 9 10 11]]\n",
        "print((x.T + w).T)\n",
        "# Another solution is to reshape w to be a column vector of shape (2, 1);\n",
        "# we can then broadcast it directly against x to produce the same\n",
        "# output.\n",
        "print(x + np.reshape(w, (2, 1)))"
      ],
      "execution_count": 0,
      "outputs": []
    },
    {
      "cell_type": "markdown",
      "metadata": {
        "id": "1WaymXBXlN-H",
        "colab_type": "text"
      },
      "source": [
        "## Views vs. Copies"
      ]
    },
    {
      "cell_type": "markdown",
      "metadata": {
        "collapsed": true,
        "id": "ohvn7o_wlN-H",
        "colab_type": "text"
      },
      "source": [
        "Unlike a copy, in a **view** of an array, the data is shared between the view and the array. Sometimes, our results are copies of arrays, but other times they can be views. Understanding when each is generated is important to avoid any unforeseen issues.\n",
        "\n",
        "Views can be created from a slice of an array, changing the dtype of the same data area (using arr.view(dtype), not the result of arr.astype(dtype)), or even both."
      ]
    },
    {
      "cell_type": "code",
      "metadata": {
        "id": "Nx3o8K4OlN-I",
        "colab_type": "code",
        "colab": {}
      },
      "source": [
        "x = np.arange(5)\n",
        "print('Original:\\n', x)  # Prints [0 1 2 3 4]\n",
        "\n",
        "# Modifying the view will modify the array\n",
        "view = x[1:3]\n",
        "view[1] = -1\n",
        "print('Array After Modified View:\\n', x)  # Prints [0 1 -1 3 4]"
      ],
      "execution_count": 0,
      "outputs": []
    },
    {
      "cell_type": "code",
      "metadata": {
        "id": "ii3CZ2WelN-J",
        "colab_type": "code",
        "colab": {}
      },
      "source": [
        "x = np.arange(5)\n",
        "view = x[1:3]\n",
        "view[1] = -1\n",
        "\n",
        "# Modifying the array will modify the view\n",
        "print('View Before Array Modification:\\n', view)  # Prints [1 -1]\n",
        "x[2] = 10\n",
        "print('Array After Modifications:\\n', x)          # Prints [0 1 10 3 4]\n",
        "print('View After Array Modification:\\n', view)   # Prints [1 10]"
      ],
      "execution_count": 0,
      "outputs": []
    },
    {
      "cell_type": "markdown",
      "metadata": {
        "id": "sDsiRic-lN-K",
        "colab_type": "text"
      },
      "source": [
        "However, if we use fancy indexing, the result will actually be a copy and not a view:"
      ]
    },
    {
      "cell_type": "code",
      "metadata": {
        "id": "PpdGIFlMlN-L",
        "colab_type": "code",
        "colab": {}
      },
      "source": [
        "x = np.arange(5)\n",
        "print('Original:\\n', x)  # Prints [0 1 2 3 4]\n",
        "\n",
        "# Modifying the result of the selection due to fancy indexing\n",
        "# will not modify the original array.\n",
        "copy = x[[1, 2]]\n",
        "copy[1] = -1\n",
        "print('Copy:\\n', copy) # Prints [1 -1]\n",
        "print('Array After Modified Copy:\\n', x)  # Prints [0 1 2 3 4]"
      ],
      "execution_count": 0,
      "outputs": []
    },
    {
      "cell_type": "code",
      "metadata": {
        "id": "VjeEXeJblN-M",
        "colab_type": "code",
        "colab": {}
      },
      "source": [
        "# Another example involving fancy indexing\n",
        "x = np.arange(5)\n",
        "print('Original:\\n', x)  # Prints [0 1 2 3 4]\n",
        "\n",
        "copy = x[x >= 2]\n",
        "print('Copy:\\n', copy) # Prints [2 3 4]\n",
        "x[3] = 10\n",
        "print('Modified Array:\\n', x)  # Prints [0 1 2 10 4]\n",
        "print('Copy After Modified Array:\\n', copy)  # Prints [2 3 4]"
      ],
      "execution_count": 0,
      "outputs": []
    },
    {
      "cell_type": "markdown",
      "metadata": {
        "id": "s_Db_JfwlN-N",
        "colab_type": "text"
      },
      "source": [
        "## Summary\n",
        "\n",
        "1. NumPy is an incredibly powerful library for computation providing both massive efficiency gains and convenience.\n",
        "2. Vectorize! Orders of magnitude faster.\n",
        "3. Keeping track of the shape of your arrays is often useful.\n",
        "4. Many useful math functions and operations built into NumPy.\n",
        "5. Select and manipulate arbitrary pieces of data with powerful indexing schemes.\n",
        "6. Broadcasting allows for computation across arrays of different shapes.\n",
        "7. Watch out for views vs. copies."
      ]
    }
  ]
}